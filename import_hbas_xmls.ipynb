{
 "cells": [
  {
   "cell_type": "code",
   "execution_count": 1,
   "metadata": {},
   "outputs": [],
   "source": [
    "import glob\n",
    "import os\n",
    "import lxml.etree as ET\n",
    "from django.core.exceptions import ObjectDoesNotExist\n",
    "from teimporter.teimodule.tei import TeiPersonList\n",
    "from apis_core.apis_metainfo.models import Collection as ACollection\n",
    "from apis_core.apis_entities.models import Person as APerson\n",
    "from apis_core.apis_entities.models import Place as APlace\n",
    "from apis_core.apis_entities.models import Work as AWork\n",
    "from apis_core.helper_functions.RDFparsers import GenericRDFParser"
   ]
  },
  {
   "cell_type": "code",
   "execution_count": 2,
   "metadata": {},
   "outputs": [],
   "source": [
    "data_dir = r\"C:\\Users\\pandorfer\\Documents\\Redmine\\konde\\Hermann-Bahr_Arthur-Schnitzler\\app\\data\\letters\\*\\*.xml\""
   ]
  },
  {
   "cell_type": "code",
   "execution_count": 3,
   "metadata": {},
   "outputs": [
    {
     "data": {
      "text/plain": [
       "697"
      ]
     },
     "execution_count": 3,
     "metadata": {},
     "output_type": "execute_result"
    }
   ],
   "source": [
    "files = glob.glob(data_dir)\n",
    "len(files)"
   ]
  },
  {
   "cell_type": "code",
   "execution_count": 4,
   "metadata": {},
   "outputs": [],
   "source": [
    "class ABWSParser(TeiPersonList):\n",
    "\n",
    "    \"\"\" a class to process schnitzler-diary TEIs \"\"\"\n",
    "    \n",
    "    def get_titles(self):\n",
    "        \"\"\"returns title nodes in tei:titleStmt \"\"\"\n",
    "        expr = \"//tei:titleStmt//tei:title/text()\"\n",
    "        nodes = self.tree.xpath(expr, namespaces=self.nsmap)\n",
    "        return nodes\n",
    "    \n",
    "    def get_title_str(self):\n",
    "        \"\"\" returns a title string \"\"\"\n",
    "        titles = self.get_titles()\n",
    "        return \"{}\".format(titles[1])\n",
    "    \n",
    "    def mentioned_pers(self, uri_base=\"https://bahrschnitzler.acdh.oeaw.ac.at/\"):\n",
    "        expr = \"//tei:persName/@key\"\n",
    "        nodes = self.tree.xpath(expr, namespaces=self.nsmap)\n",
    "        return [\"{}{}\".format(uri_base, x) for x in nodes]\n",
    "    \n",
    "    def get_idno(self):\n",
    "        expr = \"//tei:publicationStmt/tei:idno[@type='URI']/text()\"\n",
    "        idno = self.tree.xpath(expr, namespaces=self.nsmap)\n",
    "        return \"{}\".format(idno[0])\n",
    "    \n",
    "    "
   ]
  },
  {
   "cell_type": "code",
   "execution_count": 5,
   "metadata": {},
   "outputs": [],
   "source": [
    "col, _ = ACollection.objects.get_or_create(name='HBAS')\n",
    "text_type, _ = TextType.objects.get_or_create(name=\"xml/tei transcription\")\n",
    "rel_type, _ = PersonWorkRelation.objects.get_or_create(\n",
    "        name=\"mentioned in\", name_reverse=\"mentiones\"\n",
    "    )\n",
    "work_kind, _ = WorkType.objects.get_or_create(\n",
    "    name='letter'\n",
    ")\n",
    "default_domain = \"https://schnitzler-briefe.acdh.oeaw.ac.at\""
   ]
  },
  {
   "cell_type": "code",
   "execution_count": 6,
   "metadata": {},
   "outputs": [],
   "source": [
    "for x in files:\n",
    "#     print(os.path.split(x)[1])\n",
    "    doc = ABWSParser(x)\n",
    "    legacy_id = \"{}/{}\".format(default_domain, os.path.split(x)[1])\n",
    "    work, _ = Work.objects.get_or_create(name=doc.get_title_str())\n",
    "    Uri.objects.get_or_create(uri=legacy_id, entity=work)\n",
    "    work.collection.add(col)\n",
    "    text, _ = Text.objects.get_or_create(\n",
    "        text=doc.xml_to_str(), kind=text_type\n",
    "    )\n",
    "    work.text.add(text)\n",
    "    for x in doc.mentioned_pers():\n",
    "        try:\n",
    "            pers_uri = Uri.objects.get(uri=x)\n",
    "        except:\n",
    "            pers_uri = None\n",
    "        if pers_uri:\n",
    "            pers = APerson.objects.get(id=pers_uri.entity.id)\n",
    "            PersonWork.objects.get_or_create(\n",
    "                related_person=pers,\n",
    "                related_work = work,\n",
    "                relation_type=rel_type,\n",
    "            )\n",
    "        else:\n",
    "            pass"
   ]
  },
  {
   "cell_type": "code",
   "execution_count": null,
   "metadata": {},
   "outputs": [],
   "source": []
  }
 ],
 "metadata": {
  "kernelspec": {
   "display_name": "Django Shell-Plus",
   "language": "python",
   "name": "django_extensions"
  },
  "language_info": {
   "codemirror_mode": {
    "name": "ipython",
    "version": 3
   },
   "file_extension": ".py",
   "mimetype": "text/x-python",
   "name": "python",
   "nbconvert_exporter": "python",
   "pygments_lexer": "ipython3",
   "version": "3.7.0"
  }
 },
 "nbformat": 4,
 "nbformat_minor": 2
}
