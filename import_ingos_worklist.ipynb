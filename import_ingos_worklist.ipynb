{
 "cells": [
  {
   "cell_type": "code",
   "execution_count": null,
   "metadata": {},
   "outputs": [],
   "source": [
    "import pandas as pd\n",
    "from apis_core.apis_metainfo.models import Collection as ACollection\n",
    "from apis_core.apis_entities.models import Person as APerson\n",
    "from apis_core.apis_entities.models import Place as APlace\n",
    "from apis_core.apis_entities.models import Institution as AInstitution\n",
    "from apis_core.apis_entities.models import Work as AWork"
   ]
  },
  {
   "cell_type": "code",
   "execution_count": null,
   "metadata": {},
   "outputs": [],
   "source": [
    "file = \"data/seh_works.csv\""
   ]
  },
  {
   "cell_type": "code",
   "execution_count": null,
   "metadata": {},
   "outputs": [],
   "source": [
    "df = pd.read_csv(file, sep=';').fillna('False')"
   ]
  },
  {
   "cell_type": "code",
   "execution_count": null,
   "metadata": {},
   "outputs": [],
   "source": [
    "resolver_uris = {\n",
    "    \"SigleHKA\": \"http://schnitzler.acdh.oeaw.ac.at/edition/api/resolve/work:{}\",\n",
    "    \"FreiburgSystematik\": \"https://schnitzler.ub.uni-freiburg.de/work{}\",\n",
    "    \"kolimo-schnitzlerID\": \"https://github.com/ingoboerner/kolimo-schnitzler/blob/master/Schnitzler_in_KOLIMO_meta.tsv#L{}\",\n",
    "    \"HBAS\": \"https://bahrschnitzler.acdh.oeaw.ac.at/register.html?key={}\",\n",
    "    \"wikidata\": \"http://www.wikidata.org/entity/{}\",\n",
    "}"
   ]
  },
  {
   "cell_type": "code",
   "execution_count": null,
   "metadata": {},
   "outputs": [],
   "source": [
    "def make_uri(row, key, value):\n",
    "    if row[key] != 'False':\n",
    "        return value.format(row[key])\n",
    "    else:\n",
    "        return 'False'"
   ]
  },
  {
   "cell_type": "code",
   "execution_count": null,
   "metadata": {},
   "outputs": [],
   "source": [
    "for key, value in resolver_uris.items():\n",
    "    column_title = \"{}-uri\".format(key)\n",
    "    df[column_title] = df.apply(lambda row: make_uri(row, key, value) , axis=1)"
   ]
  },
  {
   "cell_type": "code",
   "execution_count": null,
   "metadata": {},
   "outputs": [],
   "source": [
    "df['new_name'] = df.apply(lambda row: \"{} [frbr:Work]\".format(row['Werktitel']), axis=1)"
   ]
  },
  {
   "cell_type": "code",
   "execution_count": null,
   "metadata": {},
   "outputs": [],
   "source": [
    "col, _ = ACollection.objects.get_or_create(\n",
    "    name='Worklist by Ingo'\n",
    ")\n",
    "basic_perswork_rel, _ = PersonWorkRelation.objects.get_or_create(\n",
    "    name='bibliographical relation to work',\n",
    "    name_reverse='bibliographical relation to person'\n",
    ")\n",
    "created, _ = PersonWorkRelation.objects.get_or_create(\n",
    "    name='created',\n",
    "    name_reverse='created_by',\n",
    "    parent_class=basic_perswork_rel\n",
    ")\n",
    "schnitzler = APerson.objects.get(name='Schnitzler', first_name='Arthur')\n",
    "work_kind, _ = WorkType.objects.get_or_create(name=\"frbr:Work\")"
   ]
  },
  {
   "cell_type": "code",
   "execution_count": null,
   "metadata": {},
   "outputs": [],
   "source": [
    "uris = [\n",
    "    'HBAS-uri',\n",
    "    'FreiburgSystematik-uri',\n",
    "    'SigleHKA-uri',\n",
    "    'wikidata-uri',\n",
    "    'kolimo-schnitzlerID-uri',\n",
    "    'theadok',\n",
    "    'dracor'\n",
    "]"
   ]
  },
  {
   "cell_type": "code",
   "execution_count": null,
   "metadata": {},
   "outputs": [],
   "source": [
    "for i, row in df.iterrows():\n",
    "    if row['new_name'] != 'False':\n",
    "        work, _ = AWork.objects.get_or_create(\n",
    "            name=row['new_name']\n",
    "        )\n",
    "        work.kind = work_kind\n",
    "        for x in uris:\n",
    "            if row[x] != 'False':\n",
    "                try:\n",
    "                    uri, _ = Uri.objects.get_or_create(\n",
    "                    uri=row[x],\n",
    "                    entity=work\n",
    "                    )\n",
    "                except:\n",
    "                    pass\n",
    "        PersonWork.objects.get_or_create(\n",
    "                    relation_type=created,\n",
    "                    related_person=schnitzler,\n",
    "                    related_work=work\n",
    "                )\n",
    "        if row['ErstdruckHKA-Liste'] != 'False':\n",
    "            work.start_date_written = str(int(row['ErstdruckHKA-Liste']))\n",
    "        work.save()\n",
    "        work.collection.add(col)"
   ]
  },
  {
   "cell_type": "code",
   "execution_count": null,
   "metadata": {},
   "outputs": [],
   "source": []
  }
 ],
 "metadata": {
  "kernelspec": {
   "display_name": "Django Shell-Plus",
   "language": "python",
   "name": "django_extensions"
  },
  "language_info": {
   "codemirror_mode": {
    "name": "ipython",
    "version": 3
   },
   "file_extension": ".py",
   "mimetype": "text/x-python",
   "name": "python",
   "nbconvert_exporter": "python",
   "pygments_lexer": "ipython3",
   "version": "3.7.0"
  }
 },
 "nbformat": 4,
 "nbformat_minor": 2
}
