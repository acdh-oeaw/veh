{
 "cells": [
  {
   "cell_type": "code",
   "execution_count": 1,
   "metadata": {},
   "outputs": [],
   "source": [
    "import glob\n",
    "import lxml.etree as ET\n",
    "from django.core.exceptions import ObjectDoesNotExist\n",
    "from teimporter.teimodule.tei import TeiPersonList\n",
    "from apis_core.apis_metainfo.models import Collection as ACollection\n",
    "from apis_core.apis_entities.models import Person as APerson\n",
    "from apis_core.apis_entities.models import Place as APlace\n",
    "from apis_core.apis_entities.models import Work as AWork"
   ]
  },
  {
   "cell_type": "code",
   "execution_count": 2,
   "metadata": {},
   "outputs": [],
   "source": [
    "data_dir = r\"C:\\Users\\pandorfer\\Documents\\Redmine\\konde\\schnitzler-tagebuch\\data\\editions\\*.xml\""
   ]
  },
  {
   "cell_type": "code",
   "execution_count": 3,
   "metadata": {},
   "outputs": [
    {
     "data": {
      "text/plain": [
       "16405"
      ]
     },
     "execution_count": 3,
     "metadata": {},
     "output_type": "execute_result"
    }
   ],
   "source": [
    "files = glob.glob(data_dir)\n",
    "len(files)"
   ]
  },
  {
   "cell_type": "code",
   "execution_count": 17,
   "metadata": {},
   "outputs": [],
   "source": [
    "class StbParser(TeiPersonList):\n",
    "\n",
    "    \"\"\" a class to process schnitzler-diary TEIs \"\"\"\n",
    "    \n",
    "    def get_titles(self):\n",
    "        \"\"\"returns title nodes in tei:titleStmt \"\"\"\n",
    "        expr = \"//tei:titleStmt//tei:title/text()\"\n",
    "        nodes = self.tree.xpath(expr, namespaces=self.nsmap)\n",
    "        return nodes\n",
    "    \n",
    "    def get_title_str(self):\n",
    "        \"\"\" returns a title string \"\"\"\n",
    "        titles = self.get_titles()\n",
    "        return \"{}, {}\".format(titles[1], titles[0])\n",
    "    \n",
    "    def mentioned_pers(self, uri_base=\"https://dse.hephaistos.arz.oeaw.ac.at/exist/apps/schnitzler-process/\"):\n",
    "        persons = self.process_listperson()\n",
    "        return [\"{}{}\".format(uri_base, x['xml_id']) for x in persons]\n",
    "    \n",
    "    def get_idno(self):\n",
    "        expr = \"//tei:publicationStmt/tei:idno[@type='URI']/text()\"\n",
    "        idno = self.tree.xpath(expr, namespaces=self.nsmap)\n",
    "        return \"{}\".format(idno[0])\n",
    "    \n",
    "    def get_date(self):\n",
    "        expr = \"//tei:body//tei:date[@when]/@when\"\n",
    "        try:\n",
    "            node = \"{}\".format(self.tree.xpath(expr, namespaces=self.nsmap)[0])\n",
    "        except IndexError:\n",
    "            node = None\n",
    "        return node\n",
    "    \n",
    "    def get_written_date(self):\n",
    "        expr = \"//tei:body//tei:date[@when]/text()\"\n",
    "        node = self.tree.xpath(expr, namespaces=self.nsmap)\n",
    "        return \"{}\".format(node[0])\n",
    "    "
   ]
  },
  {
   "cell_type": "code",
   "execution_count": 18,
   "metadata": {},
   "outputs": [],
   "source": [
    "col, _ = ACollection.objects.get_or_create(name='STB')\n",
    "text_type, _ = TextType.objects.get_or_create(name=\"xml/tei transcription\")\n",
    "rel_type, _ = PersonWorkRelation.objects.get_or_create(\n",
    "        name=\"mentioned in\", name_reverse=\"mentiones\"\n",
    "    )\n",
    "work_kind, _ = WorkType.objects.get_or_create(\n",
    "    name='diary'\n",
    ")"
   ]
  },
  {
   "cell_type": "code",
   "execution_count": 19,
   "metadata": {},
   "outputs": [],
   "source": [
    "# for x in files[:50]:\n",
    "#     doc = StbParser(x)\n",
    "#     print(doc.get_written_date())"
   ]
  },
  {
   "cell_type": "code",
   "execution_count": 20,
   "metadata": {},
   "outputs": [],
   "source": [
    "for x in files:\n",
    "    doc = StbParser(x)\n",
    "    start_date = doc.get_date()\n",
    "    if start_date:\n",
    "        start_date_written = doc.get_written_date()\n",
    "    else:\n",
    "        start_date_written = None\n",
    "    work, _ = AWork.objects.get_or_create(name=doc.get_title_str())\n",
    "    work.start_date = doc.get_title_str()[-10:]\n",
    "    work.end_date = doc.get_title_str()[-10:]\n",
    "    Uri.objects.get_or_create(uri=doc.get_idno(), entity=work)\n",
    "    text, _ = Text.objects.get_or_create(\n",
    "        text=doc.xml_to_str(), kind=text_type\n",
    "    )\n",
    "    work.kind = work_kind\n",
    "    if start_date:\n",
    "        work.start_date_written = start_date_written\n",
    "        work.end_date_written = start_date_written\n",
    "        work.start_date = start_date\n",
    "        work.end_date = start_date\n",
    "    work.save(parse_dates=False)\n",
    "    work.text.add(text)\n",
    "    work.collection.add(col)\n",
    "    for x in doc.mentioned_pers():\n",
    "        try:\n",
    "            pers_uri = Uri.objects.get(uri=x)\n",
    "        except:\n",
    "            pers_uri = None\n",
    "        if pers_uri:\n",
    "            pers = APerson.objects.get(id=pers_uri.entity.id)\n",
    "            pw, _ = PersonWork.objects.get_or_create(\n",
    "                related_person=pers,\n",
    "                related_work = work,\n",
    "                relation_type=rel_type,\n",
    "            )\n",
    "            if start_date:\n",
    "                pw.start_date_written = start_date_written\n",
    "                pw.end_date_written = start_date_written\n",
    "                pw.start_date = start_date\n",
    "                pw.end_date = start_date\n",
    "            pw.save(parse_dates=False)\n",
    "        else:\n",
    "            pass"
   ]
  },
  {
   "cell_type": "code",
   "execution_count": null,
   "metadata": {},
   "outputs": [],
   "source": [
    "print(pers_uri)"
   ]
  },
  {
   "cell_type": "code",
   "execution_count": null,
   "metadata": {},
   "outputs": [],
   "source": [
    "# import started 10:32 - end about 14:30"
   ]
  }
 ],
 "metadata": {
  "kernelspec": {
   "display_name": "Django Shell-Plus",
   "language": "python",
   "name": "django_extensions"
  },
  "language_info": {
   "codemirror_mode": {
    "name": "ipython",
    "version": 3
   },
   "file_extension": ".py",
   "mimetype": "text/x-python",
   "name": "python",
   "nbconvert_exporter": "python",
   "pygments_lexer": "ipython3",
   "version": "3.7.0"
  }
 },
 "nbformat": 4,
 "nbformat_minor": 2
}
