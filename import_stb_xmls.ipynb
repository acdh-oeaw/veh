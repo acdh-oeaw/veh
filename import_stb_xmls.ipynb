{
 "cells": [
  {
   "cell_type": "code",
   "execution_count": null,
   "metadata": {},
   "outputs": [],
   "source": [
    "import glob\n",
    "import lxml.etree as ET\n",
    "from django.core.exceptions import ObjectDoesNotExist\n",
    "from teimporter.teimodule.tei import TeiPersonList\n",
    "from apis_core.apis_metainfo.models import Collection as ACollection\n",
    "from apis_core.apis_entities.models import Person as APerson\n",
    "from apis_core.apis_entities.models import Place as APlace\n",
    "from apis_core.apis_entities.models import Work as AWork"
   ]
  },
  {
   "cell_type": "code",
   "execution_count": null,
   "metadata": {},
   "outputs": [],
   "source": [
    "data_dir = r\"C:\\Users\\pandorfer\\Documents\\Redmine\\konde\\schnitzler-tagebuch\\data\\editions\\*.xml\""
   ]
  },
  {
   "cell_type": "code",
   "execution_count": null,
   "metadata": {},
   "outputs": [],
   "source": [
    "files = glob.glob(data_dir)\n",
    "len(files)"
   ]
  },
  {
   "cell_type": "code",
   "execution_count": null,
   "metadata": {},
   "outputs": [],
   "source": [
    "class StbParser(TeiPersonList):\n",
    "\n",
    "    \"\"\" a class to process schnitzler-diary TEIs \"\"\"\n",
    "    \n",
    "    def get_titles(self):\n",
    "        \"\"\"returns title nodes in tei:titleStmt \"\"\"\n",
    "        expr = \"//tei:titleStmt//tei:title/text()\"\n",
    "        nodes = self.tree.xpath(expr, namespaces=self.nsmap)\n",
    "        return nodes\n",
    "    \n",
    "    def get_title_str(self):\n",
    "        \"\"\" returns a title string \"\"\"\n",
    "        titles = self.get_titles()\n",
    "        return \"{}, {}\".format(titles[1], titles[0])\n",
    "    \n",
    "    def mentioned_pers(self, uri_base=\"https://dse.hephaistos.arz.oeaw.ac.at/exist/apps/schnitzler-process/\"):\n",
    "        persons = self.process_listperson()\n",
    "        return [\"{}{}\".format(uri_base, x['xml_id']) for x in persons]\n",
    "    \n",
    "    def get_idno(self):\n",
    "        expr = \"//tei:publicationStmt/tei:idno[@type='URI']/text()\"\n",
    "        idno = self.tree.xpath(expr, namespaces=self.nsmap)\n",
    "        return \"{}\".format(idno[0])\n",
    "    \n",
    "    "
   ]
  },
  {
   "cell_type": "code",
   "execution_count": null,
   "metadata": {},
   "outputs": [],
   "source": [
    "col, _ = ACollection.objects.get_or_create(name='STB')\n",
    "text_type, _ = TextType.objects.get_or_create(name=\"xml/tei transcription\")\n",
    "rel_type, _ = PersonWorkRelation.objects.get_or_create(\n",
    "        name=\"mentioned in\", name_reverse=\"mentiones\"\n",
    "    )\n",
    "work_kind, _ = WorkType.objects.get_or_create(\n",
    "    name='diary'\n",
    ")"
   ]
  },
  {
   "cell_type": "code",
   "execution_count": null,
   "metadata": {},
   "outputs": [],
   "source": [
    "for x in files:\n",
    "    doc = StbParser(x)\n",
    "    work, _ = AWork.objects.get_or_create(name=doc.get_title_str())\n",
    "    work.start_date = doc.get_title_str()[-10:]\n",
    "    work.end_date = doc.get_title_str()[-10:]\n",
    "    Uri.objects.get_or_create(uri=doc.get_idno(), entity=work)\n",
    "    text, _ = Text.objects.get_or_create(\n",
    "        text=doc.xml_to_str(), kind=text_type\n",
    "    )\n",
    "    work.kind = work_kind\n",
    "    work.save()\n",
    "    work.text.add(text)\n",
    "    work.collection.add(col)\n",
    "    for x in doc.mentioned_pers():\n",
    "        try:\n",
    "            pers_uri = Uri.objects.get(uri=x)\n",
    "        except:\n",
    "            pers_uri = None\n",
    "        if pers_uri:\n",
    "            pers = APerson.objects.get(id=pers_uri.entity.id)\n",
    "            PersonWork.objects.get_or_create(\n",
    "                related_person=pers,\n",
    "                related_work = work,\n",
    "                relation_type=rel_type,\n",
    "                start_date=doc.get_title_str()[-10:],\n",
    "                end_date=doc.get_title_str()[-10:]\n",
    "            )\n",
    "        else:\n",
    "            pass"
   ]
  },
  {
   "cell_type": "code",
   "execution_count": null,
   "metadata": {},
   "outputs": [],
   "source": [
    "print(pers_uri)"
   ]
  },
  {
   "cell_type": "code",
   "execution_count": null,
   "metadata": {},
   "outputs": [],
   "source": [
    "# import started 10:32 - end about 14:30"
   ]
  }
 ],
 "metadata": {
  "kernelspec": {
   "display_name": "Django Shell-Plus",
   "language": "python",
   "name": "django_extensions"
  },
  "language_info": {
   "codemirror_mode": {
    "name": "ipython",
    "version": 3
   },
   "file_extension": ".py",
   "mimetype": "text/x-python",
   "name": "python",
   "nbconvert_exporter": "python",
   "pygments_lexer": "ipython3",
   "version": "3.7.0"
  }
 },
 "nbformat": 4,
 "nbformat_minor": 2
}
