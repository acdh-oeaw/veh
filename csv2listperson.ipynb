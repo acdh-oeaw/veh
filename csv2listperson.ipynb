{
 "cells": [
  {
   "cell_type": "code",
   "execution_count": null,
   "metadata": {},
   "outputs": [],
   "source": [
    "import pandas as pd\n",
    "import lxml.etree as ET"
   ]
  },
  {
   "cell_type": "code",
   "execution_count": null,
   "metadata": {},
   "outputs": [],
   "source": [
    "ns_tei = {'tei': \"http://www.tei-c.org/ns/1.0\"}\n",
    "tei_document = \"\"\"\n",
    "<TEI xmlns=\"http://www.tei-c.org/ns/1.0\">\n",
    "  <teiHeader>\n",
    "      <fileDesc>\n",
    "         <titleStmt>\n",
    "            <title/>\n",
    "         </titleStmt>\n",
    "         <publicationStmt>\n",
    "            <p/>\n",
    "         </publicationStmt>\n",
    "         <sourceDesc>\n",
    "            <p/>\n",
    "         </sourceDesc>\n",
    "      </fileDesc>\n",
    "  </teiHeader>\n",
    "  <text>\n",
    "      <body/>\n",
    "  </text>\n",
    "</TEI>\n",
    "\"\"\""
   ]
  },
  {
   "cell_type": "code",
   "execution_count": null,
   "metadata": {},
   "outputs": [],
   "source": [
    "file = \"staribacher-personen-20180927-123741.csv\""
   ]
  },
  {
   "cell_type": "code",
   "execution_count": null,
   "metadata": {},
   "outputs": [],
   "source": [
    "df = pd.read_csv(file, sep=';', encoding=\"latin-1\")"
   ]
  },
  {
   "cell_type": "code",
   "execution_count": null,
   "metadata": {},
   "outputs": [],
   "source": [
    "df.head()"
   ]
  },
  {
   "cell_type": "code",
   "execution_count": null,
   "metadata": {},
   "outputs": [],
   "source": [
    "new_doc = ET.fromstring(tei_document)\n",
    "list_person = ET.Element(\"{http://www.tei-c.org/ns/1.0}listPerson\")\n",
    "body = new_doc.xpath('//tei:body', namespaces=ns_tei)[0]\n",
    "body.append(list_person)\n",
    "for i, row in df.iterrows():\n",
    "    xmlid = \"per__{}{}\".format(row['Nachname'], row['Vorname']).replace(' ', '')\n",
    "    person = ET.Element(\"{http://www.tei-c.org/ns/1.0}person\")\n",
    "    person.attrib['{http://www.w3.org/XML/1998/namespace}id'] = \"{}\".format(xmlid)\n",
    "    persName = ET.Element(\"{http://www.tei-c.org/ns/1.0}persName\")\n",
    "    forename = ET.Element(\"{http://www.tei-c.org/ns/1.0}forename\")\n",
    "    forename.text = \"{}\".format(row['Vorname'])\n",
    "    surname = ET.Element(\"{http://www.tei-c.org/ns/1.0}surname\")\n",
    "    surname.text = \"{}\".format(row['Nachname'])\n",
    "    note = ET.Element(\"{http://www.tei-c.org/ns/1.0}note\")\n",
    "    note.text = \"{}\".format(row['Beschreibung'])\n",
    "    idno = ET.Element(\"{http://www.tei-c.org/ns/1.0}idno\")\n",
    "    idno.text = \"{}\".format(row['ID'])\n",
    "    persName.append(surname)\n",
    "    persName.append(forename)\n",
    "    person.append(persName)\n",
    "    person.append(note)\n",
    "    person.append(idno)\n",
    "    list_person.append(person)\n",
    "    "
   ]
  },
  {
   "cell_type": "code",
   "execution_count": null,
   "metadata": {},
   "outputs": [],
   "source": [
    "with open('data/indices/listperson.xml', 'wb') as f:\n",
    "    f.write(ET.tostring(new_doc, pretty_print=True, encoding=\"UTF-8\"))"
   ]
  },
  {
   "cell_type": "code",
   "execution_count": null,
   "metadata": {},
   "outputs": [],
   "source": []
  }
 ],
 "metadata": {
  "kernelspec": {
   "display_name": "Python 3",
   "language": "python",
   "name": "python3"
  },
  "language_info": {
   "codemirror_mode": {
    "name": "ipython",
    "version": 3
   },
   "file_extension": ".py",
   "mimetype": "text/x-python",
   "name": "python",
   "nbconvert_exporter": "python",
   "pygments_lexer": "ipython3",
   "version": "3.7.0"
  }
 },
 "nbformat": 4,
 "nbformat_minor": 2
}
