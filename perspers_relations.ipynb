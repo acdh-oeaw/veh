{
 "cells": [
  {
   "cell_type": "code",
   "execution_count": null,
   "metadata": {},
   "outputs": [],
   "source": [
    "import pandas as pd\n",
    "from apis_core.apis_metainfo.models import Collection as ACollection\n",
    "from apis_core.apis_entities.models import Person as APerson\n",
    "from apis_core.apis_entities.models import Place as APlace\n",
    "from apis_core.apis_entities.models import Institution as AInstitution\n",
    "from apis_core.apis_entities.models import Work as AWork"
   ]
  },
  {
   "cell_type": "code",
   "execution_count": null,
   "metadata": {},
   "outputs": [],
   "source": [
    "file = \"data/hbas_family_relations.csv\""
   ]
  },
  {
   "cell_type": "code",
   "execution_count": null,
   "metadata": {},
   "outputs": [],
   "source": [
    "df = pd.read_csv(file, encoding=\"utf-8\", delimiter=',')"
   ]
  },
  {
   "cell_type": "code",
   "execution_count": null,
   "metadata": {
    "scrolled": true
   },
   "outputs": [],
   "source": [
    "df"
   ]
  },
  {
   "cell_type": "code",
   "execution_count": null,
   "metadata": {},
   "outputs": [],
   "source": [
    "df['source'] = df.apply(\n",
    "    lambda row: \"https://bahrschnitzler.acdh.oeaw.ac.at/{}\".format(row['hbas-key-source']), axis=1\n",
    ")"
   ]
  },
  {
   "cell_type": "code",
   "execution_count": null,
   "metadata": {},
   "outputs": [],
   "source": [
    "df['target'] = df.apply(\n",
    "    lambda row: \"https://bahrschnitzler.acdh.oeaw.ac.at/{}\".format(row['Hbas-key-target']), axis=1\n",
    ")"
   ]
  },
  {
   "cell_type": "code",
   "execution_count": null,
   "metadata": {},
   "outputs": [],
   "source": [
    "for i, row in df.iterrows():\n",
    "    source = Uri.objects.get(uri=row['source']).entity\n",
    "    target = Uri.objects.get(uri=row['target']).entity\n",
    "    rel_type, _ = PersonPersonRelation.objects.get_or_create(\n",
    "        name=row['seh_relation']\n",
    "    )\n",
    "    PersonPerson.objects.get_or_create(\n",
    "        relation_type=rel_type,\n",
    "        related_personA=APerson.objects.get(pk=source.id),\n",
    "        related_personB=APerson.objects.get(pk=target.id)\n",
    "    )"
   ]
  },
  {
   "cell_type": "code",
   "execution_count": null,
   "metadata": {},
   "outputs": [],
   "source": [
    "set(df['seh_relation'])"
   ]
  },
  {
   "cell_type": "code",
   "execution_count": null,
   "metadata": {},
   "outputs": [],
   "source": [
    "file = \"data/relation_person_person_family-relations_name_name-reverse.csv\""
   ]
  },
  {
   "cell_type": "code",
   "execution_count": null,
   "metadata": {},
   "outputs": [],
   "source": [
    "df = pd.read_csv(file, encoding=\"utf-8\", delimiter=';').fillna('False')"
   ]
  },
  {
   "cell_type": "code",
   "execution_count": null,
   "metadata": {},
   "outputs": [],
   "source": [
    "df.head()"
   ]
  },
  {
   "cell_type": "code",
   "execution_count": null,
   "metadata": {},
   "outputs": [],
   "source": [
    "for i, row in df.iterrows():\n",
    "    if row['name'] != 'False':\n",
    "        try:\n",
    "            pprel = PersonPersonRelation.objects.get(name=row['name'])\n",
    "        except Exception as e:\n",
    "            pprel = None\n",
    "            print(e, row['name'])\n",
    "        if pprel:\n",
    "            pprel.name_reverse = row['name_reverse']\n",
    "            pprel.save()"
   ]
  },
  {
   "cell_type": "code",
   "execution_count": null,
   "metadata": {},
   "outputs": [],
   "source": [
    "PersonPersonRelation.objects.filter(name='isNiblingOf')"
   ]
  },
  {
   "cell_type": "code",
   "execution_count": null,
   "metadata": {},
   "outputs": [],
   "source": []
  }
 ],
 "metadata": {
  "kernelspec": {
   "display_name": "Django Shell-Plus",
   "language": "python",
   "name": "django_extensions"
  },
  "language_info": {
   "codemirror_mode": {
    "name": "ipython",
    "version": 3
   },
   "file_extension": ".py",
   "mimetype": "text/x-python",
   "name": "python",
   "nbconvert_exporter": "python",
   "pygments_lexer": "ipython3",
   "version": "3.7.0"
  }
 },
 "nbformat": 4,
 "nbformat_minor": 2
}
