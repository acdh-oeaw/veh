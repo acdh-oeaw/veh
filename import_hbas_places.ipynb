{
 "cells": [
  {
   "cell_type": "code",
   "execution_count": null,
   "metadata": {},
   "outputs": [],
   "source": [
    "import requests\n",
    "import lxml.etree as ET\n",
    "from teimporter.teimodule.tei import TeiPlaceList\n",
    "from apis_core.helper_functions.RDFparsers import GenericRDFParser"
   ]
  },
  {
   "cell_type": "code",
   "execution_count": null,
   "metadata": {},
   "outputs": [],
   "source": [
    "col, _ = Collection.objects.get_or_create(\n",
    "    name='ASBW'\n",
    ")\n",
    "default_domain = \"https://schnitzler-briefe.acdh.oeaw.ac.at\"\n",
    "pla_pla_rel, _ = PlacePlaceRelation.objects.get_or_create(name='hosts', name_reverse='located in')"
   ]
  },
  {
   "cell_type": "code",
   "execution_count": null,
   "metadata": {},
   "outputs": [],
   "source": [
    "file = r\"C:\\Users\\pandorfer\\Documents\\Redmine\\konde\\seh-data\\hbas_places.xml\""
   ]
  },
  {
   "cell_type": "code",
   "execution_count": null,
   "metadata": {},
   "outputs": [],
   "source": [
    "tei = TeiPlaceList(file)\n",
    "listplace = tei.parse_placelist()\n",
    "listplace['amount']"
   ]
  },
  {
   "cell_type": "code",
   "execution_count": null,
   "metadata": {},
   "outputs": [],
   "source": [
    "errors = []\n",
    "for x in listplace['places']:\n",
    "    place_dict = tei.place2dict(x)\n",
    "    legacy_id = \"{}/{}\".format(default_domain, place_dict['legacy_id'])\n",
    "    pl = GenericRDFParser(legacy_id, 'Place').get_or_create()\n",
    "    pl_type, _ = PlaceType.objects.get_or_create(name=place_dict['type'][0])\n",
    "    pl.name = place_dict['placeNames'][0]['text']\n",
    "    pl.kind = pl_type\n",
    "    pl.collection.add(col)\n",
    "    \n",
    "    # create uris\n",
    "    for uri in place_dict['idno']:\n",
    "        try:\n",
    "            domain = uri['subtype']\n",
    "        except KeyError:\n",
    "            domain = uri['type']\n",
    "        if domain[0] == 'URL':\n",
    "            url = uri['text']\n",
    "        elif domain[0] == 'GEONAMES':\n",
    "            url = \"https://www.geonames.org/{}\".format(uri['text'])\n",
    "        elif domain[0] == 'WIENWIKI':\n",
    "            url = uri['text'].strip()\n",
    "        elif domain[0] == 'WIKIDATA':\n",
    "            url = \"https://www.wikidata.org/wiki/{}\".format(uri['text'].strip())\n",
    "        else:\n",
    "            url = \"{}/{}\".format(default_domain, uri['text'])\n",
    "        try:\n",
    "            pl_uri, _ = Uri.objects.get_or_create(\n",
    "                domain=domain,\n",
    "                uri=url,\n",
    "                entity=pl\n",
    "            )\n",
    "        except Exception as e:\n",
    "            errors.append(e)\n",
    "    \n",
    "    # create labels\n",
    "    for y in place_dict['placeNames'][1:]:\n",
    "        try:\n",
    "            label_str = y['type'][0]\n",
    "        except IndexError:\n",
    "            label_str = 'alt'\n",
    "        label_type, _ = LabelType.objects.get_or_create(name=label_str)\n",
    "        label, _ = Label.objects.get_or_create(\n",
    "            label=y['text'], temp_entity=pl\n",
    "        )\n",
    "    \n",
    "    # add coordinates\n",
    "    \n",
    "    coords = place_dict['geo']['coordinates']\n",
    "    if coords:\n",
    "        try:\n",
    "            pl.lat = float(coords[0])\n",
    "            pl.lng = float(coords[1])\n",
    "        except ValueError:\n",
    "            pass\n",
    "    pl.save()"
   ]
  },
  {
   "cell_type": "code",
   "execution_count": null,
   "metadata": {},
   "outputs": [],
   "source": [
    "place_dict"
   ]
  },
  {
   "cell_type": "code",
   "execution_count": null,
   "metadata": {},
   "outputs": [],
   "source": [
    "for x in listplace['places']:\n",
    "    place_dict = tei.place2dict(x)\n",
    "    try:\n",
    "        place_active = place_dict['belongs_to']['active']\n",
    "    except KeyError:\n",
    "        place_active = None\n",
    "    try:\n",
    "        place_passive = place_dict['belongs_to']['passive']\n",
    "    except KeyError:\n",
    "        place_passive = None\n",
    "    if place_active and place_passive:\n",
    "        try:\n",
    "            pl_a = Uri.objects.get(uri=\"https://schnitzler-briefe.acdh.oeaw.ac.at/{}\".format(place_active.strip())).entity.place\n",
    "        except :\n",
    "            print(place_active)\n",
    "            pl_a = None\n",
    "        try:\n",
    "            pl_b = Uri.objects.get(uri=\"https://schnitzler-briefe.acdh.oeaw.ac.at/{}\".format(place_passive.strip())).entity.place\n",
    "        except:\n",
    "            print(place_passive)\n",
    "            pl_b = None\n",
    "        if pl_a and pl_b:\n",
    "            PlacePlace.objects.get_or_create(\n",
    "                related_placeA=pl_a,\n",
    "                related_placeB=pl_b,\n",
    "                relation_type=pla_pla_rel\n",
    "            )\n",
    "        else:\n",
    "            print('oje')\n",
    "                "
   ]
  },
  {
   "cell_type": "code",
   "execution_count": null,
   "metadata": {},
   "outputs": [],
   "source": [
    "Place.objects.all().delete()"
   ]
  },
  {
   "cell_type": "code",
   "execution_count": null,
   "metadata": {},
   "outputs": [],
   "source": [
    "PlacePlace.objects.all().delete()"
   ]
  },
  {
   "cell_type": "code",
   "execution_count": null,
   "metadata": {},
   "outputs": [],
   "source": [
    "relations = []\n",
    "for x in ent_types:\n",
    "    group = []\n",
    "    for y in ent_dict['relations'][x]:\n",
    "        rel = {}\n",
    "        rel['rel_type'] = x\n",
    "        rel['target'] = y[x[:-1]]['id']\n",
    "        group.append(rel)\n",
    "    if group:\n",
    "        relations.append(group)\n"
   ]
  },
  {
   "cell_type": "code",
   "execution_count": null,
   "metadata": {},
   "outputs": [],
   "source": [
    "for x in relations:\n",
    "    print(x)"
   ]
  },
  {
   "cell_type": "code",
   "execution_count": null,
   "metadata": {},
   "outputs": [],
   "source": [
    "file = \"temp.xml\""
   ]
  },
  {
   "cell_type": "code",
   "execution_count": null,
   "metadata": {},
   "outputs": [],
   "source": [
    "with open(file, 'wb') as f:\n",
    "    f.write(ET.tostring(hansi.create_full_doc(), pretty_print=True, encoding='UTF-8'))"
   ]
  },
  {
   "cell_type": "code",
   "execution_count": null,
   "metadata": {},
   "outputs": [],
   "source": [
    "hansi.export_full_doc()"
   ]
  },
  {
   "cell_type": "code",
   "execution_count": null,
   "metadata": {},
   "outputs": [],
   "source": []
  }
 ],
 "metadata": {
  "kernelspec": {
   "display_name": "Django Shell-Plus",
   "language": "python",
   "name": "django_extensions"
  },
  "language_info": {
   "codemirror_mode": {
    "name": "ipython",
    "version": 3
   },
   "file_extension": ".py",
   "mimetype": "text/x-python",
   "name": "python",
   "nbconvert_exporter": "python",
   "pygments_lexer": "ipython3",
   "version": "3.7.0"
  }
 },
 "nbformat": 4,
 "nbformat_minor": 2
}
