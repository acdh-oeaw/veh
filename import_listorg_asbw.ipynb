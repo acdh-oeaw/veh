{
 "cells": [
  {
   "cell_type": "code",
   "execution_count": null,
   "metadata": {},
   "outputs": [],
   "source": [
    "import pandas as pd\n",
    "from apis_core.helper_functions.RDFparsers import GenericRDFParser"
   ]
  },
  {
   "cell_type": "code",
   "execution_count": null,
   "metadata": {},
   "outputs": [],
   "source": [
    "file = 'data/ASBW Personen und Werke - orgName.csv'\n",
    "col, _ = Collection.objects.get_or_create(\n",
    "    name='ASBW'\n",
    ")\n",
    "default_domain = \"https://schnitzler-briefe.acdh.oeaw.ac.at\""
   ]
  },
  {
   "cell_type": "code",
   "execution_count": null,
   "metadata": {},
   "outputs": [],
   "source": [
    "inst_place_rel, _ = InstitutionPlaceRelation.objects.get_or_create(name='located in', name_reverse='hosts')\n",
    "pla_pla_rel, _ = PlacePlaceRelation.objects.get_or_create(name='part of', name_reverse='has part')"
   ]
  },
  {
   "cell_type": "code",
   "execution_count": null,
   "metadata": {},
   "outputs": [],
   "source": [
    "df = pd.read_csv(file).fillna('FALSE')\n",
    "df.keys()"
   ]
  },
  {
   "cell_type": "code",
   "execution_count": null,
   "metadata": {},
   "outputs": [],
   "source": [
    "for i, row in df.iterrows():\n",
    "    if row['Titel'] == 'FALSE':\n",
    "        pass\n",
    "    else:\n",
    "        legacy_id = \"{}/A{}\".format(default_domain, row['Nummer-laufend'])\n",
    "        item_type, _ = InstitutionType.objects.get_or_create(name=row['Typ'])\n",
    "        item = GenericRDFParser(legacy_id, 'Institution').get_or_create()\n",
    "        item.name = row['Titel']\n",
    "        item.kind = item_type\n",
    "        item.collection.add(col)\n",
    "        if row['Ort'] != 'FALSE':\n",
    "            try:\n",
    "                mainplace, _ = Place.objects.get_or_create(name=row['Ort'])\n",
    "            except:\n",
    "                mainplace, _ = Place.objects.get_or_create(name=\"CHECK-ME: {}\".format(row['Ort']))\n",
    "        else:\n",
    "            mainplace = None\n",
    "        if row['Bezirk'] != 'FALSE':\n",
    "            try:\n",
    "                bezirk, _ = Place.objects.get_or_create(name=row['Bezirk'])\n",
    "            except:\n",
    "                bezirk, _ = Place.objects.get_or_create(name=\"CHECK-ME: {}\".format(row['Bezirk']))\n",
    "            if mainplace:\n",
    "                PlacePlace.objects.get_or_create(\n",
    "                    related_placeA=bezirk,\n",
    "                    related_placeB=mainplace,\n",
    "                    relation_type=pla_pla_rel\n",
    "                )\n",
    "            mainplace = bezirk\n",
    "        if mainplace:\n",
    "            InstitutionPlace.objects.get_or_create(\n",
    "                related_institution=item,\n",
    "                related_place=mainplace,\n",
    "                relation_type=inst_place_rel\n",
    "            )\n",
    "        \n",
    "        item.save()"
   ]
  },
  {
   "cell_type": "code",
   "execution_count": null,
   "metadata": {},
   "outputs": [],
   "source": [
    "Place.objects.all().delete()"
   ]
  },
  {
   "cell_type": "code",
   "execution_count": null,
   "metadata": {},
   "outputs": [],
   "source": []
  }
 ],
 "metadata": {
  "kernelspec": {
   "display_name": "Django Shell-Plus",
   "language": "python",
   "name": "django_extensions"
  },
  "language_info": {
   "codemirror_mode": {
    "name": "ipython",
    "version": 3
   },
   "file_extension": ".py",
   "mimetype": "text/x-python",
   "name": "python",
   "nbconvert_exporter": "python",
   "pygments_lexer": "ipython3",
   "version": "3.7.0"
  }
 },
 "nbformat": 4,
 "nbformat_minor": 2
}
