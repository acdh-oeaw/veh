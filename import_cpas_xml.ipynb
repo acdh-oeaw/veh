{
 "cells": [
  {
   "cell_type": "code",
   "execution_count": null,
   "metadata": {},
   "outputs": [],
   "source": [
    "import lxml.etree as ET\n",
    "import pandas as pd\n",
    "from teimporter.teimodule.tei import TeiPersonList\n",
    "from apis_core.apis_metainfo.models import Collection as ACollection\n",
    "from apis_core.apis_entities.models import Person as APerson\n",
    "from apis_core.apis_entities.models import Place as APlace\n",
    "from apis_core.apis_entities.models import Work as AWork\n",
    "from apis_core.helper_functions.RDFparsers import GenericRDFParser"
   ]
  },
  {
   "cell_type": "code",
   "execution_count": null,
   "metadata": {},
   "outputs": [],
   "source": [
    "file = r\"C:\\Users\\pandorfer\\Documents\\Redmine\\konde\\cpas\\102_derived_tei\\cp-TEI.xml\""
   ]
  },
  {
   "cell_type": "code",
   "execution_count": null,
   "metadata": {},
   "outputs": [],
   "source": [
    "col, _ = ACollection.objects.get_or_create(name='CPAS')\n",
    "text_type, _ = TextType.objects.get_or_create(name=\"xml/tei transcription\")\n",
    "rel_type, _ = PersonWorkRelation.objects.get_or_create(\n",
    "        name=\"mentioned in\", name_reverse=\"mentiones\"\n",
    "    )\n",
    "work_kind, _ = WorkType.objects.get_or_create(\n",
    "    name='diary'\n",
    ")\n",
    "default_domain = \"https://schnitzler-kino.acdh.oeaw.ac.at\""
   ]
  },
  {
   "cell_type": "code",
   "execution_count": null,
   "metadata": {},
   "outputs": [],
   "source": [
    "class CPASParser(TeiPersonList):\n",
    "\n",
    "    \"\"\" a class to process cpas TEIs \"\"\"\n",
    "    \n",
    "    def get_entries(self):\n",
    "        \"\"\"returns diary entries\"\"\"\n",
    "        expr = \"//tei:div[@type='tagebucheintrag']\"\n",
    "        nodes = self.tree.xpath(expr, namespaces=self.nsmap)\n",
    "        return nodes\n",
    "    \n",
    "    def get_id(self, node):\n",
    "        expr = \"./@xml:id\"\n",
    "        nodes = node.xpath(expr, namespaces=self.nsmap)[0]\n",
    "        return nodes\n",
    "    \n",
    "    def get_ev_id(self, node):\n",
    "        expr = \"./@corresp\"\n",
    "        nodes = node.xpath(expr, namespaces=self.nsmap)[0]\n",
    "        return nodes.split('#')[1]\n",
    "    \n",
    "    def get_titles(self):\n",
    "        \"\"\"returns title nodes in tei:titleStmt \"\"\"\n",
    "        expr = \"//tei:titleStmt//tei:title/text()\"\n",
    "        nodes = self.tree.xpath(expr, namespaces=self.nsmap)\n",
    "        return nodes\n",
    "    \n",
    "    def get_title_str(self):\n",
    "        \"\"\" returns a title string \"\"\"\n",
    "        titles = self.get_titles()\n",
    "        return \"{}\".format(titles[1])\n",
    "    \n",
    "    def mentioned_pers(self, uri_base=\"https://bahrschnitzler.acdh.oeaw.ac.at/\"):\n",
    "        expr = \"//tei:persName/@key\"\n",
    "        nodes = self.tree.xpath(expr, namespaces=self.nsmap)\n",
    "        return [\"{}{}\".format(uri_base, x) for x in nodes]\n",
    "    \n",
    "    def get_idno(self):\n",
    "        expr = \"//tei:publicationStmt/tei:idno[@type='URI']/text()\"\n",
    "        idno = self.tree.xpath(expr, namespaces=self.nsmap)\n",
    "        return \"{}\".format(idno[0])\n",
    "    \n",
    "    def get_date(self):\n",
    "        expr = \"//tei:date[@when]/@when\"\n",
    "        date = self.tree.xpath(expr, namespaces=self.nsmap)[0]\n",
    "        return date\n",
    "    \n",
    "    def get_written_date(self):\n",
    "        expr = \"//tei:date[@when]/text()\"\n",
    "        date = self.tree.xpath(expr, namespaces=self.nsmap)[0]\n",
    "        return date\n",
    "    \n",
    "    "
   ]
  },
  {
   "cell_type": "code",
   "execution_count": null,
   "metadata": {},
   "outputs": [],
   "source": [
    "class ListEvent(TeiPersonList):\n",
    "    \n",
    "    def get_date(self, ev_id):\n",
    "        expr = \"//tei:event[@xml:id=$name]/@key\"\n",
    "        nodes = self.tree.xpath(expr, name=ev_id, namespaces=self.nsmap)[0]\n",
    "        return nodes"
   ]
  },
  {
   "cell_type": "code",
   "execution_count": null,
   "metadata": {},
   "outputs": [],
   "source": [
    "list_event = ListEvent(r\"C:\\Users\\pandorfer\\Documents\\Redmine\\konde\\cpas\\102_derived_tei\\synopse-TEI.xml\")"
   ]
  },
  {
   "cell_type": "code",
   "execution_count": null,
   "metadata": {},
   "outputs": [],
   "source": [
    "doc = CPASParser(file)"
   ]
  },
  {
   "cell_type": "code",
   "execution_count": null,
   "metadata": {},
   "outputs": [],
   "source": [
    "for x in doc.get_entries():\n",
    "    legacy_id = \"{}/{}\".format(default_domain, doc.get_id(x))\n",
    "    date = list_event.get_date(doc.get_ev_id(x))\n",
    "    title = \"{}, Tagebucheintrag der Clara Katharina Pollaczek\".format(date)\n",
    "    work, _ = Work.objects.get_or_create(name=title)\n",
    "    work.kind = work_kind\n",
    "    Uri.objects.get_or_create(uri=legacy_id, entity=work)\n",
    "    work.start_date_written = date\n",
    "    work.end_date_written = date\n",
    "    work.start_date = date\n",
    "    work.end_date = date\n",
    "    work.save(parse_dates=False)\n",
    "    work.collection.add(col)"
   ]
  },
  {
   "cell_type": "code",
   "execution_count": null,
   "metadata": {},
   "outputs": [],
   "source": []
  },
  {
   "cell_type": "code",
   "execution_count": null,
   "metadata": {},
   "outputs": [],
   "source": []
  }
 ],
 "metadata": {
  "kernelspec": {
   "display_name": "Django Shell-Plus",
   "language": "python",
   "name": "django_extensions"
  },
  "language_info": {
   "codemirror_mode": {
    "name": "ipython",
    "version": 3
   },
   "file_extension": ".py",
   "mimetype": "text/x-python",
   "name": "python",
   "nbconvert_exporter": "python",
   "pygments_lexer": "ipython3",
   "version": "3.7.0"
  }
 },
 "nbformat": 4,
 "nbformat_minor": 2
}
